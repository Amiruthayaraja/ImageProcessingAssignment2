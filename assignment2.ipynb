{
 "cells": [
  {
   "cell_type": "code",
   "execution_count": 15,
   "metadata": {},
   "outputs": [
    {
     "data": {
      "text/plain": [
       "Text(0.5, 1.0, 'Thresholded Image')"
      ]
     },
     "execution_count": 15,
     "metadata": {},
     "output_type": "execute_result"
    },
    {
     "data": {
      "image/png": "[encoded data removed]",
      "text/plain": [
       "<Figure size 432x288 with 3 Axes>"
      ]
     },
     "metadata": {
      "needs_background": "light"
     },
     "output_type": "display_data"
    }
   ],
   "source": [
    "import cv2\n",
    "import numpy as np\n",
    "from skimage import data\n",
    "from matplotlib import pyplot as plt\n",
    "\n",
    "# Load the image\n",
    "img = cv2.imread('image.png',0)\n",
    "\n",
    "# Add Gaussian noise to the image\n",
    "noise = np.random.normal(0, 1, img.shape)\n",
    "noisy_img = img + noise\n",
    "\n",
    "# Convert the image type to CV_8UC1\n",
    "noisy_img = cv2.convertScaleAbs(noisy_img)\n",
    "\n",
    "# Implement Otsu's thresholding algorithm\n",
    "threshold_value, threshold_img = cv2.threshold(noisy_img, 0, 255, cv2.THRESH_BINARY+cv2.THRESH_OTSU)\n",
    "\n",
    "# Display the original image, noisy image, and thresholded image\n",
    "fig,arr= plt.subplots(1,3)\n",
    "\n",
    "arr[0].imshow(img)\n",
    "arr[0].set_title('Original Image')\n",
    "\n",
    "arr[1].imshow(noisy_img)\n",
    "arr[1].set_title('Gaussian Noisy Image')\n",
    "\n",
    "arr[2].imshow(threshold_img)\n",
    "arr[2].set_title('Thresholded Image')\n",
    "\n",
    "\n"
   ]
  },
  {
   "cell_type": "code",
   "execution_count": 13,
   "metadata": {},
   "outputs": [
    {
     "name": "stderr",
     "output_type": "stream",
     "text": [
      "<ipython-input-13-fc3808864b7d>:27: RuntimeWarning: overflow encountered in ubyte_scalars\n",
      "  if mask[pixel] == 0 and abs(img[pixel] - img[seed]) <= threshold:\n"
     ]
    },
    {
     "data": {
      "text/plain": [
       "Text(0.5, 1.0, 'Segmented Region')"
      ]
     },
     "execution_count": 13,
     "metadata": {},
     "output_type": "execute_result"
    },
    {
     "data": {
      "image/png": "[encoded data removed]",
      "text/plain": [
       "<Figure size 432x288 with 2 Axes>"
      ]
     },
     "metadata": {
      "needs_background": "light"
     },
     "output_type": "display_data"
    }
   ],
   "source": [
    "# Load the image\n",
    "import cv2\n",
    "import numpy as np\n",
    "from skimage import data\n",
    "from matplotlib import pyplot as plt\n",
    "\n",
    "img = cv2.imread('image.png',0)\n",
    "\n",
    "# Select a seed pixel within the object of interest\n",
    "seed = (50, 50)\n",
    "\n",
    "# Define a threshold range of pixel values around the seed pixel\n",
    "threshold = 10\n",
    "\n",
    "# Initialize an empty mask of the same shape as the input image\n",
    "mask = np.zeros_like(img)\n",
    "\n",
    "# Initialize a list of neighboring pixels to the seed pixel\n",
    "neighbors = [seed]\n",
    "\n",
    "# While the list of neighboring pixels is not empty:\n",
    "while neighbors:\n",
    "    # Pop a neighboring pixel from the list\n",
    "    pixel = neighbors.pop()\n",
    "\n",
    "    # If the pixel is not already marked in the mask and its value falls within the threshold range:\n",
    "    if mask[pixel] == 0 and abs(img[pixel] - img[seed]) <= threshold:\n",
    "        # Add the pixel to the segmented region and mark it in the mask\n",
    "        mask[pixel] = 255\n",
    "\n",
    "        # Add all unmarked neighboring pixels to the list\n",
    "        x, y = pixel\n",
    "        for i in range(-1, 2):\n",
    "            for j in range(-1, 2):\n",
    "                if i == 0 and j == 0:\n",
    "                    continue\n",
    "                if 0 <= x+i < img.shape[0] and 0 <= y+j < img.shape[1]:\n",
    "                    if mask[x+i, y+j] == 0:\n",
    "                        neighbors.append((x+i, y+j))\n",
    "\n",
    "# Display the original image and the segmented region\n",
    "\n",
    "\n",
    "fig,arr= plt.subplots(1,2)\n",
    "\n",
    "arr[0].imshow(img)\n",
    "arr[0].set_title('Original Image')\n",
    "\n",
    "arr[1].imshow(mask)\n",
    "arr[1].set_title('Segmented Region')\n",
    "\n"
   ]
  },
  {
   "cell_type": "code",
   "execution_count": null,
   "metadata": {},
   "outputs": [],
   "source": []
  },
  {
   "cell_type": "code",
   "execution_count": null,
   "metadata": {},
   "outputs": [],
   "source": []
  },
  {
   "cell_type": "code",
   "execution_count": null,
   "metadata": {},
   "outputs": [],
   "source": []
  }
 ],
 "metadata": {
  "kernelspec": {
   "display_name": "Python 3",
   "language": "python",
   "name": "python3"
  },
  "language_info": {
   "codemirror_mode": {
    "name": "ipython",
    "version": 3
   },
   "file_extension": ".py",
   "mimetype": "text/x-python",
   "name": "python",
   "nbconvert_exporter": "python",
   "pygments_lexer": "ipython3",
   "version": "3.8.3"
  }
 },
 "nbformat": 4,
 "nbformat_minor": 5
}
